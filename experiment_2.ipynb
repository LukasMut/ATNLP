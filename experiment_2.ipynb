{
 "cells": [
  {
   "cell_type": "code",
   "execution_count": 1,
   "metadata": {
    "ExecuteTime": {
     "end_time": "2020-01-11T10:25:55.602039Z",
     "start_time": "2020-01-11T10:25:53.786559Z"
    }
   },
   "outputs": [
    {
     "name": "stdout",
     "output_type": "stream",
     "text": [
      "CPU used\n",
      "CPU used\n"
     ]
    }
   ],
   "source": [
    "import numpy as np\n",
    "import torch.nn as nn\n",
    "import matplotlib\n",
    "import random\n",
    "import torch\n",
    "\n",
    "from itertools import islice\n",
    "from sklearn.utils import shuffle\n",
    "from tqdm import tqdm, trange\n",
    "from torch.optim import Adam\n",
    "from torch.utils.data import TensorDataset\n",
    "\n",
    "from models.Encoder import *\n",
    "from models.Decoder import *\n",
    "from models.utils import *\n",
    "from utils import *\n",
    "\n",
    "# set fixed random seed to reproduce results\n",
    "np.random.seed(42)\n",
    "random.seed(42)\n",
    "torch.manual_seed(42)\n",
    "\n",
    "%matplotlib inline"
   ]
  },
  {
   "cell_type": "code",
   "execution_count": 2,
   "metadata": {
    "ExecuteTime": {
     "end_time": "2020-01-11T10:25:55.614213Z",
     "start_time": "2020-01-11T10:25:55.605831Z"
    }
   },
   "outputs": [],
   "source": [
    "# define experiment\n",
    "exp='/exp_2'"
   ]
  },
  {
   "cell_type": "code",
   "execution_count": 3,
   "metadata": {
    "ExecuteTime": {
     "end_time": "2020-01-11T10:25:55.621825Z",
     "start_time": "2020-01-11T10:25:55.617926Z"
    }
   },
   "outputs": [],
   "source": [
    "device = \"cpu\" #(\"cuda\" if torch.cuda.is_available() else \"cpu\")"
   ]
  },
  {
   "cell_type": "code",
   "execution_count": 4,
   "metadata": {
    "ExecuteTime": {
     "end_time": "2020-01-11T10:25:55.978618Z",
     "start_time": "2020-01-11T10:25:55.624819Z"
    }
   },
   "outputs": [],
   "source": [
    "# load dataset into memory, and get w2idx, idx2w, w2freq dictionaries and lists of input and output sentences\n",
    "cmd_vocab, w2i_cmds, i2w_cmds, cmds_train, act_vocab, w2i_acts, i2w_acts, acts_train = load_dataset(exp=exp, split='/train')\n",
    "_, _, _, cmds_test, _, _, _, acts_test = load_dataset(exp=exp, split='/test')"
   ]
  },
  {
   "cell_type": "code",
   "execution_count": 5,
   "metadata": {
    "ExecuteTime": {
     "end_time": "2020-01-11T10:25:56.006585Z",
     "start_time": "2020-01-11T10:25:55.978618Z"
    }
   },
   "outputs": [
    {
     "name": "stdout",
     "output_type": "stream",
     "text": [
      "Number of train source-target pairs: 16990\n",
      "Number of test source-target pairs: 3920\n"
     ]
    }
   ],
   "source": [
    "## create input and output language pairs ##\n",
    "\n",
    "# training\n",
    "train_cmd_act_pairs = create_pairs(cmds_train, acts_train)\n",
    "print(\"Number of train source-target pairs: {}\".format(len(train_cmd_act_pairs)))\n",
    "\n",
    "# testing\n",
    "test_cmd_act_pairs = create_pairs(cmds_test, acts_test)\n",
    "print(\"Number of test source-target pairs: {}\".format(len(test_cmd_act_pairs)))"
   ]
  },
  {
   "cell_type": "code",
   "execution_count": 6,
   "metadata": {
    "ExecuteTime": {
     "end_time": "2020-01-11T10:25:56.022588Z",
     "start_time": "2020-01-11T10:25:56.007929Z"
    }
   },
   "outputs": [
    {
     "name": "stdout",
     "output_type": "stream",
     "text": [
      "Command: ['jump', 'opposite', 'left', 'after', 'run', 'thrice']\n",
      "Action: ['I_RUN', 'I_RUN', 'I_RUN', 'I_TURN_LEFT', 'I_TURN_LEFT', 'I_JUMP']\n"
     ]
    }
   ],
   "source": [
    "# show random train command-action pair\n",
    "random_pair = random.choice(train_cmd_act_pairs)\n",
    "print(\"Command: {}\".format(random_pair[0]))\n",
    "print(\"Action: {}\".format(random_pair[1]))"
   ]
  },
  {
   "cell_type": "code",
   "execution_count": 7,
   "metadata": {
    "ExecuteTime": {
     "end_time": "2020-01-11T10:25:56.037114Z",
     "start_time": "2020-01-11T10:25:56.027512Z"
    }
   },
   "outputs": [
    {
     "name": "stdout",
     "output_type": "stream",
     "text": [
      "Command: ['run', 'around', 'right', 'twice', 'and', 'look', 'around', 'right']\n",
      "Action: ['I_TURN_RIGHT', 'I_RUN', 'I_TURN_RIGHT', 'I_RUN', 'I_TURN_RIGHT', 'I_RUN', 'I_TURN_RIGHT', 'I_RUN', 'I_TURN_RIGHT', 'I_RUN', 'I_TURN_RIGHT', 'I_RUN', 'I_TURN_RIGHT', 'I_RUN', 'I_TURN_RIGHT', 'I_RUN', 'I_TURN_RIGHT', 'I_LOOK', 'I_TURN_RIGHT', 'I_LOOK', 'I_TURN_RIGHT', 'I_LOOK', 'I_TURN_RIGHT', 'I_LOOK']\n"
     ]
    }
   ],
   "source": [
    "# show random test command-action pair\n",
    "random_pair = random.choice(test_cmd_act_pairs)\n",
    "print(\"Command: {}\".format(random_pair[0]))\n",
    "print(\"Action: {}\".format(random_pair[1]))"
   ]
  },
  {
   "cell_type": "code",
   "execution_count": 8,
   "metadata": {
    "ExecuteTime": {
     "end_time": "2020-01-11T10:25:56.056608Z",
     "start_time": "2020-01-11T10:25:56.041109Z"
    }
   },
   "outputs": [
    {
     "name": "stdout",
     "output_type": "stream",
     "text": [
      "Command sequence: tensor([15, 11,  4,  6, 10, 14, 11,  4,  2])\n",
      "Action sequence: tensor([1, 4, 9, 4, 9, 4, 9, 4, 9, 4, 9, 4, 9, 4, 9, 4, 9, 4, 8, 4, 8, 4, 8, 4,\n",
      "        8, 2])\n"
     ]
    }
   ],
   "source": [
    "cmd_act_pair = pairs2idx(random_pair, w2i_cmds, w2i_acts)\n",
    "print(\"Command sequence: {}\".format(cmd_act_pair[0]))\n",
    "print(\"Action sequence: {}\".format(cmd_act_pair[1]))"
   ]
  },
  {
   "cell_type": "code",
   "execution_count": 9,
   "metadata": {
    "ExecuteTime": {
     "end_time": "2020-01-11T10:25:56.064929Z",
     "start_time": "2020-01-11T10:25:56.059634Z"
    }
   },
   "outputs": [],
   "source": [
    "## Hyperparameters for training ##\n",
    "\n",
    "# source language (i.e., commands) vocabulary size |V_source|\n",
    "in_size = len(w2i_cmds)\n",
    "\n",
    "# target language (i.e., actions) vocabulary size |V_target|\n",
    "out_size = len(w2i_acts)\n",
    "\n",
    "# size of word embeddings\n",
    "emb_size = 20\n",
    "\n",
    "# size of hidden units\n",
    "hidden_size = 100\n",
    "\n",
    "# number of layers\n",
    "n_layers = 1\n",
    "\n",
    "# number of epochs\n",
    "n_epochs = 1"
   ]
  },
  {
   "cell_type": "code",
   "execution_count": 10,
   "metadata": {
    "ExecuteTime": {
     "end_time": "2020-01-11T10:25:56.084951Z",
     "start_time": "2020-01-11T10:25:56.067301Z"
    }
   },
   "outputs": [
    {
     "name": "stderr",
     "output_type": "stream",
     "text": [
      "C:\\Users\\lukas\\AppData\\Local\\Continuum\\anaconda3\\lib\\site-packages\\torch\\nn\\modules\\rnn.py:51: UserWarning: dropout option adds dropout after all but last recurrent layer, so non-zero dropout expects num_layers greater than 1, but got dropout=0.5 and num_layers=1\n",
      "  \"num_layers={}\".format(dropout, num_layers))\n"
     ]
    }
   ],
   "source": [
    "## Instantiate models ##\n",
    "\n",
    "encoder = EncoderLSTM(in_size, emb_size, hidden_size, n_layers)\n",
    "decoder = DecoderLSTM(emb_size, hidden_size, out_size, n_layers)"
   ]
  },
  {
   "cell_type": "code",
   "execution_count": 11,
   "metadata": {
    "ExecuteTime": {
     "end_time": "2020-01-11T10:25:56.100074Z",
     "start_time": "2020-01-11T10:25:56.088658Z"
    }
   },
   "outputs": [
    {
     "data": {
      "text/plain": [
       "EncoderLSTM(\n",
       "  (embedding): Embedding(17, 20)\n",
       "  (lstm): LSTM(20, 100, dropout=0.5)\n",
       ")"
      ]
     },
     "execution_count": 11,
     "metadata": {},
     "output_type": "execute_result"
    }
   ],
   "source": [
    "# move models to GPU, if GPU is available (for faster computation)\n",
    "encoder.to(device)"
   ]
  },
  {
   "cell_type": "code",
   "execution_count": 12,
   "metadata": {
    "ExecuteTime": {
     "end_time": "2020-01-11T10:25:56.111827Z",
     "start_time": "2020-01-11T10:25:56.102545Z"
    }
   },
   "outputs": [
    {
     "data": {
      "text/plain": [
       "DecoderLSTM(\n",
       "  (embedding): Embedding(10, 20)\n",
       "  (lstm): LSTM(20, 100, dropout=0.5)\n",
       "  (linear): Linear(in_features=100, out_features=10, bias=True)\n",
       ")"
      ]
     },
     "execution_count": 12,
     "metadata": {},
     "output_type": "execute_result"
    }
   ],
   "source": [
    "decoder.to(device)"
   ]
  },
  {
   "cell_type": "markdown",
   "metadata": {},
   "source": [
    "## Training"
   ]
  },
  {
   "cell_type": "code",
   "execution_count": 14,
   "metadata": {
    "ExecuteTime": {
     "end_time": "2020-01-11T10:35:15.140531Z",
     "start_time": "2020-01-11T10:25:56.126617Z"
    }
   },
   "outputs": [
    {
     "name": "stderr",
     "output_type": "stream",
     "text": [
      "\r",
      "Epoch:   0%|                                                                                     | 0/1 [00:00<?, ?it/s]"
     ]
    },
    {
     "name": "stdout",
     "output_type": "stream",
     "text": [
      "Loss: 0.2125701904296875\n",
      "Acc: 0.000999000999000999\n",
      "\n",
      "Command: run around right and jump opposite left twice <EOS>\n",
      "True action: I_TURN_RIGHT I_RUN I_TURN_RIGHT I_RUN I_TURN_RIGHT I_RUN I_TURN_RIGHT I_RUN I_TURN_LEFT I_TURN_LEFT I_JUMP I_TURN_LEFT I_TURN_LEFT I_JUMP <EOS>\n",
      "Pred action: I_TURN_LEFT I_TURN_RIGHT I_TURN_RIGHT I_TURN_RIGHT I_TURN_RIGHT I_TURN_RIGHT I_TURN_RIGHT I_TURN_RIGHT I_TURN_RIGHT I_TURN_LEFT I_TURN_LEFT <EOS> <EOS> <EOS> <EOS>\n",
      "\n",
      "True sent length: 15\n",
      "Pred sent length: 15\n",
      "\n",
      "Loss: 0.5285149680243598\n",
      "Acc: 0.00399800099950025\n",
      "\n",
      "Command: run opposite left twice and walk <EOS>\n",
      "True action: I_TURN_LEFT I_TURN_LEFT I_RUN I_TURN_LEFT I_TURN_LEFT I_RUN I_WALK <EOS>\n",
      "Pred action: I_TURN_LEFT I_TURN_LEFT I_TURN_LEFT I_TURN_LEFT <EOS> <EOS> <EOS> <EOS>\n",
      "\n",
      "True sent length: 8\n",
      "Pred sent length: 8\n",
      "\n",
      "Loss: 0.2473350895775689\n",
      "Acc: 0.007664111962679107\n",
      "\n",
      "Command: run thrice and jump right twice <EOS>\n",
      "True action: I_RUN I_RUN I_RUN I_TURN_RIGHT I_JUMP I_TURN_RIGHT I_JUMP <EOS>\n",
      "Pred action: I_RUN I_RUN I_RUN I_RUN I_JUMP <EOS> <EOS> <EOS>\n",
      "\n",
      "True sent length: 8\n",
      "Pred sent length: 8\n",
      "\n",
      "Loss: 0.24298892702375138\n",
      "Acc: 0.015746063484128967\n",
      "\n",
      "Command: jump thrice after walk twice <EOS>\n",
      "True action: I_WALK I_WALK I_JUMP I_JUMP I_JUMP <EOS>\n",
      "Pred action: I_WALK I_WALK I_JUMP I_JUMP I_JUMP <EOS>\n",
      "\n",
      "True sent length: 6\n",
      "Pred sent length: 6\n",
      "\n",
      "Loss: 0.07439090013504028\n",
      "Acc: 0.026994601079784044\n",
      "\n",
      "Command: look left twice and look left twice <EOS>\n",
      "True action: I_TURN_LEFT I_LOOK I_TURN_LEFT I_LOOK I_TURN_LEFT I_LOOK I_TURN_LEFT I_LOOK <EOS>\n",
      "Pred action: I_TURN_LEFT I_LOOK I_TURN_LEFT I_LOOK I_TURN_LEFT I_LOOK I_LOOK I_LOOK <EOS>\n",
      "\n",
      "True sent length: 9\n",
      "Pred sent length: 9\n",
      "\n",
      "Loss: 0.09860094785690307\n",
      "Acc: 0.042659556740543246\n",
      "\n",
      "Command: look opposite left twice after jump twice <EOS>\n",
      "True action: I_JUMP I_JUMP I_TURN_LEFT I_TURN_LEFT I_LOOK I_TURN_LEFT I_TURN_LEFT I_LOOK <EOS>\n",
      "Pred action: I_JUMP I_JUMP I_TURN_LEFT I_LOOK I_TURN_LEFT I_TURN_LEFT I_TURN_LEFT I_LOOK <EOS>\n",
      "\n",
      "True sent length: 9\n",
      "Pred sent length: 9\n",
      "\n",
      "Loss: 0.05884377871240888\n",
      "Acc: 0.05742036851878303\n",
      "\n",
      "Command: run opposite left thrice after walk opposite right <EOS>\n",
      "True action: I_TURN_RIGHT I_TURN_RIGHT I_WALK I_TURN_LEFT I_TURN_LEFT I_RUN I_TURN_LEFT I_TURN_LEFT I_RUN I_TURN_LEFT I_TURN_LEFT I_RUN <EOS>\n",
      "Pred action: I_TURN_RIGHT I_TURN_RIGHT I_WALK I_TURN_LEFT I_TURN_LEFT I_TURN_LEFT I_TURN_LEFT I_TURN_LEFT I_RUN I_TURN_LEFT I_RUN <EOS> <EOS>\n",
      "\n",
      "True sent length: 13\n",
      "Pred sent length: 13\n",
      "\n",
      "Loss: 0.06372877955436707\n",
      "Acc: 0.07774028246469192\n",
      "\n",
      "Command: walk left after turn opposite left twice <EOS>\n",
      "True action: I_TURN_LEFT I_TURN_LEFT I_TURN_LEFT I_TURN_LEFT I_TURN_LEFT I_WALK <EOS>\n",
      "Pred action: I_TURN_LEFT I_TURN_LEFT I_TURN_LEFT I_TURN_LEFT I_TURN_LEFT I_WALK <EOS>\n",
      "\n",
      "True sent length: 7\n",
      "Pred sent length: 7\n",
      "\n",
      "Loss: 0.048234919706980385\n",
      "Acc: 0.10165537162537495\n",
      "\n",
      "Command: turn around right twice and walk twice <EOS>\n",
      "True action: I_TURN_RIGHT I_TURN_RIGHT I_TURN_RIGHT I_TURN_RIGHT I_TURN_RIGHT I_TURN_RIGHT I_TURN_RIGHT I_TURN_RIGHT I_WALK I_WALK <EOS>\n",
      "Pred action: I_TURN_RIGHT I_TURN_RIGHT I_TURN_RIGHT I_TURN_RIGHT I_TURN_RIGHT I_TURN_RIGHT I_TURN_RIGHT I_WALK I_WALK I_WALK <EOS>\n",
      "\n",
      "True sent length: 11\n",
      "Pred sent length: 11\n",
      "\n",
      "Train loss: 0.18160030601519161\n",
      "Train acc: 0.1292\n",
      "Current teacher forcing ratio 0.5\n"
     ]
    },
    {
     "name": "stderr",
     "output_type": "stream",
     "text": [
      "Epoch: 100%|████████████████████████████████████████████████████████████████████████████| 1/1 [09:18<00:00, 558.64s/it]\n"
     ]
    }
   ],
   "source": [
    "train_losses, train_accs, encoder, decoder = train(train_cmd_act_pairs, \n",
    "                                                   w2i_cmds, w2i_acts, \n",
    "                                                   i2w_cmds, i2w_acts,\n",
    "                                                   encoder, decoder, \n",
    "                                                   n_epochs, \n",
    "                                                   detailed_analysis=True,\n",
    "                                                   phrase_based_loss=True)"
   ]
  },
  {
   "cell_type": "markdown",
   "metadata": {},
   "source": [
    "## Testing"
   ]
  },
  {
   "cell_type": "code",
   "execution_count": null,
   "metadata": {
    "ExecuteTime": {
     "start_time": "2020-01-11T10:25:53.856Z"
    }
   },
   "outputs": [],
   "source": [
    "test_acc = test(test_cmd_act_pairs, w2i_cmds, w2i_acts, i2w_cmds, i2w_acts, encoder, decoder)"
   ]
  }
 ],
 "metadata": {
  "hide_input": false,
  "kernelspec": {
   "display_name": "Python 3",
   "language": "python",
   "name": "python3"
  },
  "language_info": {
   "codemirror_mode": {
    "name": "ipython",
    "version": 3
   },
   "file_extension": ".py",
   "mimetype": "text/x-python",
   "name": "python",
   "nbconvert_exporter": "python",
   "pygments_lexer": "ipython3",
   "version": "3.7.4"
  },
  "latex_envs": {
   "LaTeX_envs_menu_present": true,
   "autoclose": false,
   "autocomplete": true,
   "bibliofile": "biblio.bib",
   "cite_by": "apalike",
   "current_citInitial": 1,
   "eqLabelWithNumbers": true,
   "eqNumInitial": 1,
   "hotkeys": {
    "equation": "Ctrl-E",
    "itemize": "Ctrl-I"
   },
   "labels_anchors": false,
   "latex_user_defs": false,
   "report_style_numbering": false,
   "user_envs_cfg": false
  },
  "toc": {
   "base_numbering": 1,
   "nav_menu": {},
   "number_sections": true,
   "sideBar": true,
   "skip_h1_title": false,
   "title_cell": "Table of Contents",
   "title_sidebar": "Contents",
   "toc_cell": false,
   "toc_position": {},
   "toc_section_display": true,
   "toc_window_display": false
  },
  "varInspector": {
   "cols": {
    "lenName": 16,
    "lenType": 16,
    "lenVar": 40
   },
   "kernels_config": {
    "python": {
     "delete_cmd_postfix": "",
     "delete_cmd_prefix": "del ",
     "library": "var_list.py",
     "varRefreshCmd": "print(var_dic_list())"
    },
    "r": {
     "delete_cmd_postfix": ") ",
     "delete_cmd_prefix": "rm(",
     "library": "var_list.r",
     "varRefreshCmd": "cat(var_dic_list()) "
    }
   },
   "types_to_exclude": [
    "module",
    "function",
    "builtin_function_or_method",
    "instance",
    "_Feature"
   ],
   "window_display": false
  }
 },
 "nbformat": 4,
 "nbformat_minor": 2
}
