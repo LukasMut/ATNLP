{
 "cells": [
  {
   "cell_type": "code",
   "execution_count": 1,
   "metadata": {
    "ExecuteTime": {
     "end_time": "2019-12-11T10:36:31.206133Z",
     "start_time": "2019-12-11T10:36:28.624990Z"
    }
   },
   "outputs": [
    {
     "name": "stdout",
     "output_type": "stream",
     "text": [
      "GPU is available\n",
      "GPU is available\n"
     ]
    },
    {
     "name": "stderr",
     "output_type": "stream",
     "text": [
      "Using TensorFlow backend.\n"
     ]
    }
   ],
   "source": [
    "import matplotlib.pyplot as plt\n",
    "import numpy as np\n",
    "import torch.nn as nn\n",
    "import json\n",
    "import matplotlib\n",
    "import os\n",
    "import random\n",
    "import torch\n",
    "\n",
    "from collections import Counter, defaultdict\n",
    "from itertools import islice\n",
    "from sklearn.utils import shuffle\n",
    "from tqdm import tqdm, trange\n",
    "from torch.optim import Adam\n",
    "from torch.utils.data import TensorDataset\n",
    "\n",
    "from models.Encoder import *\n",
    "from models.Decoder import *\n",
    "from models.utils import *\n",
    "from utils import *\n",
    "\n",
    "# set fixed random seed to reproduce results\n",
    "np.random.seed(42)\n",
    "random.seed(42)\n",
    "torch.manual_seed(42)\n",
    "\n",
    "%matplotlib inline"
   ]
  },
  {
   "cell_type": "markdown",
   "metadata": {},
   "source": [
    "# Experiment 2"
   ]
  },
  {
   "cell_type": "code",
   "execution_count": 2,
   "metadata": {
    "ExecuteTime": {
     "end_time": "2019-12-11T10:36:31.257946Z",
     "start_time": "2019-12-11T10:36:31.253958Z"
    }
   },
   "outputs": [],
   "source": [
    "# define experiment\n",
    "exp='/exp_2'\n",
    "\n",
    "# define number of iterations\n",
    "n_iters = 20000\n",
    "\n",
    "# define batch size\n",
    "batch_size = 32"
   ]
  },
  {
   "cell_type": "code",
   "execution_count": 3,
   "metadata": {
    "ExecuteTime": {
     "end_time": "2019-12-11T10:36:31.299859Z",
     "start_time": "2019-12-11T10:36:31.296843Z"
    }
   },
   "outputs": [],
   "source": [
    "device = (\"cuda\" if torch.cuda.is_available() else \"cpu\")"
   ]
  },
  {
   "cell_type": "code",
   "execution_count": 4,
   "metadata": {
    "ExecuteTime": {
     "end_time": "2019-12-11T10:36:31.508328Z",
     "start_time": "2019-12-11T10:36:31.344716Z"
    }
   },
   "outputs": [],
   "source": [
    "# load dataset into memory, and get w2idx, idx2w, w2freq dictionaries and lists of input and output sentences\n",
    "cmd_vocab, w2i_cmds, i2w_cmds, cmds_train, act_vocab, w2i_acts, i2w_acts, acts_train = load_dataset(exp=exp, split='/train')\n",
    "_, _, _, cmds_test, _, _, _, acts_test = load_dataset(exp=exp, split='/test')"
   ]
  },
  {
   "cell_type": "code",
   "execution_count": 5,
   "metadata": {
    "ExecuteTime": {
     "end_time": "2019-12-11T10:36:31.946138Z",
     "start_time": "2019-12-11T10:36:31.938128Z"
    }
   },
   "outputs": [
    {
     "name": "stdout",
     "output_type": "stream",
     "text": [
      "Number of train source-target pairs: 16990\n",
      "Number of test source-target pairs: 3920\n"
     ]
    }
   ],
   "source": [
    "## create input and output language pairs ##\n",
    "\n",
    "# training\n",
    "train_cmd_act_pairs = create_pairs(cmds_train, acts_train)\n",
    "print(\"Number of train source-target pairs: {}\".format(len(train_cmd_act_pairs)))\n",
    "\n",
    "# testing\n",
    "test_cmd_act_pairs = create_pairs(cmds_test, acts_test)\n",
    "print(\"Number of test source-target pairs: {}\".format(len(test_cmd_act_pairs)))"
   ]
  },
  {
   "cell_type": "code",
   "execution_count": 6,
   "metadata": {
    "ExecuteTime": {
     "end_time": "2019-12-11T10:36:32.826774Z",
     "start_time": "2019-12-11T10:36:32.821799Z"
    }
   },
   "outputs": [
    {
     "name": "stdout",
     "output_type": "stream",
     "text": [
      "Command: ['jump', 'opposite', 'left', 'after', 'run', 'thrice']\n",
      "Action: ['I_RUN', 'I_RUN', 'I_RUN', 'I_TURN_LEFT', 'I_TURN_LEFT', 'I_JUMP']\n"
     ]
    }
   ],
   "source": [
    "# show random train command-action pair\n",
    "random_pair = random.choice(train_cmd_act_pairs)\n",
    "print(\"Command: {}\".format(random_pair[0]))\n",
    "print(\"Action: {}\".format(random_pair[1]))"
   ]
  },
  {
   "cell_type": "code",
   "execution_count": 7,
   "metadata": {
    "ExecuteTime": {
     "end_time": "2019-12-11T10:36:33.687551Z",
     "start_time": "2019-12-11T10:36:33.680562Z"
    },
    "scrolled": true
   },
   "outputs": [
    {
     "name": "stdout",
     "output_type": "stream",
     "text": [
      "Command: ['run', 'around', 'right', 'twice', 'and', 'look', 'around', 'right']\n",
      "Action: ['I_TURN_RIGHT', 'I_RUN', 'I_TURN_RIGHT', 'I_RUN', 'I_TURN_RIGHT', 'I_RUN', 'I_TURN_RIGHT', 'I_RUN', 'I_TURN_RIGHT', 'I_RUN', 'I_TURN_RIGHT', 'I_RUN', 'I_TURN_RIGHT', 'I_RUN', 'I_TURN_RIGHT', 'I_RUN', 'I_TURN_RIGHT', 'I_LOOK', 'I_TURN_RIGHT', 'I_LOOK', 'I_TURN_RIGHT', 'I_LOOK', 'I_TURN_RIGHT', 'I_LOOK']\n"
     ]
    }
   ],
   "source": [
    "# show random test command-action pair\n",
    "random_pair = random.choice(test_cmd_act_pairs)\n",
    "print(\"Command: {}\".format(random_pair[0]))\n",
    "print(\"Action: {}\".format(random_pair[1]))"
   ]
  },
  {
   "cell_type": "markdown",
   "metadata": {},
   "source": [
    "## Prepare data"
   ]
  },
  {
   "cell_type": "code",
   "execution_count": 8,
   "metadata": {
    "ExecuteTime": {
     "end_time": "2019-12-11T10:36:52.699242Z",
     "start_time": "2019-12-11T10:36:34.549229Z"
    }
   },
   "outputs": [],
   "source": [
    "cmds_train, acts_train, input_lengths_train, masks = pairs2idx(cmds_train, acts_train, w2i_cmds, w2i_acts, padding=True, training=True)\n",
    "cmds_test, acts_test, input_lengths_test = pairs2idx(cmds_test, acts_test, w2i_cmds, w2i_acts, padding=True, training=False)"
   ]
  },
  {
   "cell_type": "code",
   "execution_count": 9,
   "metadata": {
    "ExecuteTime": {
     "end_time": "2019-12-11T10:36:53.488079Z",
     "start_time": "2019-12-11T10:36:53.484090Z"
    }
   },
   "outputs": [],
   "source": [
    "# create train and test data loaders\n",
    "train_dl = create_batches(cmds_train, acts_train, input_lengths_train, batch_size=batch_size, masks=masks, split='train', num_samples=n_iters)\n",
    "test_dl = create_batches(cmds_test, acts_test, input_lengths_test, batch_size=batch_size, split='test')"
   ]
  },
  {
   "cell_type": "code",
   "execution_count": 10,
   "metadata": {
    "ExecuteTime": {
     "end_time": "2019-12-11T10:36:54.268000Z",
     "start_time": "2019-12-11T10:36:54.264005Z"
    }
   },
   "outputs": [],
   "source": [
    "### Hyperparameters for training ###\n",
    "\n",
    "# source language (i.e., commands) vocabulary size |V_source|\n",
    "in_size = len(w2i_cmds)\n",
    "\n",
    "# target language (i.e., actions) vocabulary size |V_target|\n",
    "out_size = len(w2i_acts)\n",
    "\n",
    "# size of word embeddings\n",
    "emb_size = 20 #[10, 20]\n",
    "\n",
    "# size of hidden units\n",
    "hidden_size = 50 #[50, 100]\n",
    "\n",
    "# number of layers\n",
    "layer_size = 1 #[1, 2]\n",
    "\n",
    "# layer dropout rates\n",
    "dropout_rate = 0.5 #[0.25, 0.5]\n",
    "\n",
    "# learning rate\n",
    "lr = 1e-3\n",
    "\n",
    "# define whether encoder is uni- or bidirectional (decoder cannot be bidirectional)\n",
    "bidir = False\n",
    "\n",
    "# number of epochs\n",
    "n_epochs = 10 # 10-15 epochs (20.000 iterations each) seem to be sufficient to let models converge (find local minima)"
   ]
  },
  {
   "cell_type": "markdown",
   "metadata": {},
   "source": [
    "## Grid search over specified hyperparameter space"
   ]
  },
  {
   "cell_type": "code",
   "execution_count": 11,
   "metadata": {
    "ExecuteTime": {
     "end_time": "2019-12-11T10:36:55.030999Z",
     "start_time": "2019-12-11T10:36:55.021985Z"
    },
    "code_folding": [
     0
    ]
   },
   "outputs": [],
   "source": [
    "def grid_search(embedding_sizes:list, hidden_sizes:list, layer_sizes:list, dropout_rates:list, lr:float, n_epochs:int):\n",
    "    in_size = len(w2i_cmds) # source language (i.e., commands) vocabulary size |V_source|\n",
    "    out_size = len(w2i_acts) # target language (i.e., actions) vocabulary size |V_target|\n",
    "    batch_size = 32\n",
    "    grid_results = defaultdict(dict)\n",
    "    for emb_size in embedding_sizes:\n",
    "        for hidden_size in hidden_sizes:\n",
    "            for layer_size in layer_sizes:\n",
    "                for dropout_rate in dropout_rates:\n",
    "                    # instantiate models\n",
    "                    encoder = EncoderGRU(in_size, emb_size, hidden_size, layer_size, dropout=dropout_rate, bidir=False)\n",
    "                    decoder = DecoderGRU(emb_size, hidden_size, out_size, layer_size, dropout=dropout_rate)\n",
    "                    # move models to GPU, if nvidia GPU is available (faster computation)\n",
    "                    encoder.cuda()\n",
    "                    decoder.cuda()\n",
    "                    train_losses, train_accs, encoder, decoder = train(train_dl, w2i_cmds, w2i_acts, i2w_cmds, i2w_acts,\n",
    "                                                                       encoder, decoder, epochs=n_epochs,\n",
    "                                                                       batch_size=batch_size, learning_rate=lr)\n",
    "                    test_acc = test(test_dl, w2i_cmds, w2i_acts, i2w_cmds, i2w_acts, encoder, decoder, batch_size=batch_size)\n",
    "                    grid_results[(emb_size, hidden_size, layer_size, dropout_rate)]['train_accs'] = train_accs\n",
    "                    grid_results[(emb_size, hidden_size, layer_size, dropout_rate)]['train_losses'] = train_losses\n",
    "                    grid_results[(emb_size, hidden_size, layer_size, dropout_rate)]['test_acc'] = test_acc\n",
    "    return grid_results"
   ]
  },
  {
   "cell_type": "markdown",
   "metadata": {},
   "source": [
    "## Debugging"
   ]
  },
  {
   "cell_type": "code",
   "execution_count": 12,
   "metadata": {
    "ExecuteTime": {
     "end_time": "2019-12-11T10:36:55.821837Z",
     "start_time": "2019-12-11T10:36:55.813859Z"
    }
   },
   "outputs": [
    {
     "name": "stderr",
     "output_type": "stream",
     "text": [
      "C:\\Users\\lukas\\AppData\\Local\\Continuum\\anaconda3\\lib\\site-packages\\torch\\nn\\modules\\rnn.py:51: UserWarning: dropout option adds dropout after all but last recurrent layer, so non-zero dropout expects num_layers greater than 1, but got dropout=0.5 and num_layers=1\n",
      "  \"num_layers={}\".format(dropout, num_layers))\n"
     ]
    }
   ],
   "source": [
    "## Instantiate models ##\n",
    "\n",
    "encoder = EncoderGRU(in_size, emb_size, hidden_size, layer_size, dropout=dropout_rate, bidir=bidir)\n",
    "decoder = AttnDecoderGRU(emb_size, hidden_size, out_size, layer_size, dropout=dropout_rate)"
   ]
  },
  {
   "cell_type": "code",
   "execution_count": 13,
   "metadata": {
    "ExecuteTime": {
     "end_time": "2019-12-11T10:36:58.143651Z",
     "start_time": "2019-12-11T10:36:56.585819Z"
    }
   },
   "outputs": [
    {
     "data": {
      "text/plain": [
       "EncoderGRU(\n",
       "  (embedding): Embedding(16, 20, padding_idx=0)\n",
       "  (gru): GRU(20, 50, batch_first=True, dropout=0.5)\n",
       ")"
      ]
     },
     "execution_count": 13,
     "metadata": {},
     "output_type": "execute_result"
    }
   ],
   "source": [
    "encoder.cuda()"
   ]
  },
  {
   "cell_type": "code",
   "execution_count": 14,
   "metadata": {
    "ExecuteTime": {
     "end_time": "2019-12-11T10:36:58.927555Z",
     "start_time": "2019-12-11T10:36:58.921569Z"
    },
    "scrolled": false
   },
   "outputs": [
    {
     "data": {
      "text/plain": [
       "AttnDecoderGRU(\n",
       "  (embedding): Embedding(9, 20, padding_idx=0)\n",
       "  (attention): MultiplicativeAttention(\n",
       "    (attn): Linear(in_features=50, out_features=50, bias=True)\n",
       "  )\n",
       "  (gru): GRU(20, 50, batch_first=True, dropout=0.5)\n",
       "  (linear): Linear(in_features=100, out_features=9, bias=True)\n",
       ")"
      ]
     },
     "execution_count": 14,
     "metadata": {},
     "output_type": "execute_result"
    }
   ],
   "source": [
    "# move models to GPU, if GPU is available (for faster computation)\n",
    "decoder.cuda()"
   ]
  },
  {
   "cell_type": "markdown",
   "metadata": {},
   "source": [
    "### Training"
   ]
  },
  {
   "cell_type": "code",
   "execution_count": null,
   "metadata": {
    "ExecuteTime": {
     "start_time": "2019-12-11T10:36:34.891Z"
    }
   },
   "outputs": [
    {
     "name": "stderr",
     "output_type": "stream",
     "text": [
      "\r",
      "Epoch:   0%|                                                                                    | 0/10 [00:00<?, ?it/s]"
     ]
    },
    {
     "name": "stdout",
     "output_type": "stream",
     "text": [
      "Loss: 0.6459187046319497\n",
      "Acc: 0.0012458471760797341\n",
      "\n",
      "Command: walk opposite left twice and turn around right thrice <EOS>\n",
      "True action: I_TURN_LEFT I_TURN_LEFT I_WALK I_TURN_LEFT I_TURN_LEFT I_WALK I_TURN_RIGHT I_TURN_RIGHT I_TURN_RIGHT I_TURN_RIGHT I_TURN_RIGHT I_TURN_RIGHT I_TURN_RIGHT I_TURN_RIGHT I_TURN_RIGHT I_TURN_RIGHT I_TURN_RIGHT I_TURN_RIGHT <EOS>\n",
      "Pred action: I_TURN_LEFT I_TURN_LEFT I_TURN_LEFT I_TURN_LEFT I_WALK I_WALK I_TURN_RIGHT I_TURN_RIGHT I_TURN_RIGHT I_TURN_RIGHT I_TURN_RIGHT I_TURN_RIGHT I_TURN_RIGHT I_TURN_RIGHT I_TURN_RIGHT I_TURN_RIGHT <EOS> <EOS> <EOS>\n",
      "\n",
      "True sent length: 19\n",
      "Pred sent length: 19\n",
      "\n",
      "Loss: 0.30377136456439185\n",
      "Acc: 0.035617720465890186\n",
      "\n",
      "Command: run opposite right twice and walk around left twice <EOS>\n",
      "True action: I_TURN_RIGHT I_TURN_RIGHT I_RUN I_TURN_RIGHT I_TURN_RIGHT I_RUN I_TURN_LEFT I_WALK I_TURN_LEFT I_WALK I_TURN_LEFT I_WALK I_TURN_LEFT I_WALK I_TURN_LEFT I_WALK I_TURN_LEFT I_WALK I_TURN_LEFT I_WALK I_TURN_LEFT I_WALK <EOS>\n",
      "Pred action: I_TURN_RIGHT I_TURN_RIGHT I_TURN_RIGHT I_TURN_RIGHT I_TURN_RIGHT I_RUN I_TURN_LEFT I_WALK I_TURN_LEFT I_WALK I_TURN_LEFT I_WALK I_TURN_LEFT I_WALK I_TURN_LEFT I_WALK I_TURN_LEFT I_WALK I_TURN_LEFT I_WALK I_TURN_LEFT I_WALK <EOS>\n",
      "\n",
      "True sent length: 23\n",
      "Pred sent length: 23\n",
      "\n",
      "Train loss: 0.8052212532302316\n",
      "Train acc: 0.04145\n",
      "Current teacher forcing ratio 0.95\n"
     ]
    },
    {
     "name": "stderr",
     "output_type": "stream",
     "text": [
      "\r",
      "Epoch:  10%|███████▌                                                                   | 1/10 [02:41<24:15, 161.72s/it]"
     ]
    },
    {
     "name": "stdout",
     "output_type": "stream",
     "text": [
      "Loss: 0.20356826816432394\n",
      "Acc: 0.27232142857142855\n",
      "\n",
      "Command: jump opposite left twice and look opposite left twice <EOS>\n",
      "True action: I_TURN_LEFT I_TURN_LEFT I_JUMP I_TURN_LEFT I_TURN_LEFT I_JUMP I_TURN_LEFT I_TURN_LEFT I_LOOK I_TURN_LEFT I_TURN_LEFT I_LOOK <EOS>\n",
      "Pred action: I_TURN_LEFT I_TURN_LEFT I_JUMP I_TURN_LEFT I_TURN_LEFT I_JUMP I_TURN_LEFT I_TURN_LEFT I_LOOK I_TURN_LEFT I_TURN_LEFT I_LOOK <EOS>\n",
      "\n",
      "True sent length: 13\n",
      "Pred sent length: 13\n",
      "\n"
     ]
    }
   ],
   "source": [
    "train_losses, train_accs, encoder, decoder = train(train_dl,\n",
    "                                                   w2i_cmds, w2i_acts,\n",
    "                                                   i2w_cmds, i2w_acts,\n",
    "                                                   encoder, decoder,\n",
    "                                                   epochs=n_epochs,\n",
    "                                                   batch_size=batch_size,\n",
    "                                                   learning_rate=lr,\n",
    "                                                   detailed_analysis=True)"
   ]
  },
  {
   "cell_type": "markdown",
   "metadata": {},
   "source": [
    "### Testing"
   ]
  },
  {
   "cell_type": "code",
   "execution_count": 27,
   "metadata": {
    "ExecuteTime": {
     "end_time": "2019-12-11T10:08:55.026381Z",
     "start_time": "2019-12-11T10:08:23.606763Z"
    },
    "scrolled": false
   },
   "outputs": [
    {
     "name": "stdout",
     "output_type": "stream",
     "text": [
      "Current test acc: 0.049019607843137254\n",
      "\n",
      "Command: run around left thrice after run opposite right <EOS> <PAD>\n",
      "True action: I_TURN_RIGHT I_TURN_RIGHT I_RUN I_TURN_LEFT I_RUN I_TURN_LEFT I_RUN I_TURN_LEFT I_RUN I_TURN_LEFT I_RUN I_TURN_LEFT I_RUN I_TURN_LEFT I_RUN I_TURN_LEFT I_RUN I_TURN_LEFT I_RUN I_TURN_LEFT I_RUN I_TURN_LEFT I_RUN I_TURN_LEFT I_RUN I_TURN_LEFT I_RUN <EOS>\n",
      "Pred action: I_TURN_RIGHT I_TURN_RIGHT I_RUN I_TURN_LEFT I_RUN I_TURN_LEFT I_RUN I_TURN_LEFT I_RUN I_TURN_LEFT I_RUN I_TURN_LEFT I_RUN I_TURN_LEFT I_RUN I_TURN_LEFT I_RUN I_TURN_LEFT I_RUN I_TURN_LEFT I_RUN <EOS> <EOS> <EOS> <EOS> <EOS> <EOS> <EOS>\n",
      "\n",
      "True sent length: 28\n",
      "Pred sent length: 28\n",
      "\n",
      "Current test acc: 0.024752475247524754\n",
      "\n",
      "Command: walk around left twice after walk around left twice <EOS>\n",
      "True action: I_TURN_LEFT I_WALK I_TURN_LEFT I_WALK I_TURN_LEFT I_WALK I_TURN_LEFT I_WALK I_TURN_LEFT I_WALK I_TURN_LEFT I_WALK I_TURN_LEFT I_WALK I_TURN_LEFT I_WALK I_TURN_LEFT I_WALK I_TURN_LEFT I_WALK I_TURN_LEFT I_WALK I_TURN_LEFT I_WALK I_TURN_LEFT I_WALK I_TURN_LEFT I_WALK I_TURN_LEFT I_WALK I_TURN_LEFT I_WALK <EOS>\n",
      "Pred action: I_TURN_LEFT I_WALK I_TURN_LEFT I_WALK I_TURN_LEFT I_WALK I_TURN_LEFT I_WALK I_TURN_LEFT I_WALK I_TURN_LEFT I_WALK I_TURN_LEFT I_WALK I_TURN_LEFT I_WALK I_TURN_LEFT I_WALK I_TURN_LEFT I_WALK I_TURN_LEFT I_WALK I_TURN_LEFT I_WALK I_TURN_LEFT I_WALK <EOS> <EOS> <EOS> <EOS> <EOS> <EOS> <EOS>\n",
      "\n",
      "True sent length: 33\n",
      "Pred sent length: 33\n",
      "\n",
      "Test acc: 0.02040816326530612\n"
     ]
    }
   ],
   "source": [
    "test_acc, results_cmds, results_acts = test(test_dl,\n",
    "                                            w2i_cmds, w2i_acts, \n",
    "                                            i2w_cmds, i2w_acts, \n",
    "                                            encoder, decoder,\n",
    "                                            batch_size=batch_size,\n",
    "                                            detailed_analysis=True,\n",
    "                                            detailed_results=True)"
   ]
  },
  {
   "cell_type": "code",
   "execution_count": 40,
   "metadata": {
    "ExecuteTime": {
     "end_time": "2019-12-11T10:13:34.973879Z",
     "start_time": "2019-12-11T10:13:34.846213Z"
    },
    "scrolled": true
   },
   "outputs": [
    {
     "data": {
      "image/png": "[encoded data removed]",
      "text/plain": [
       "<Figure size 480x320 with 1 Axes>"
      ]
     },
     "metadata": {
      "needs_background": "light"
     },
     "output_type": "display_data"
    },
    {
     "data": {
      "text/plain": [
       "<Figure size 432x288 with 0 Axes>"
      ]
     },
     "metadata": {},
     "output_type": "display_data"
    }
   ],
   "source": [
    "cmd_lengths, cmd_accs = zip(*results_cmds.items())\n",
    "plt.figure(figsize=(6, 4), dpi=80)\n",
    "plt.bar(cmd_lengths, cmd_accs)\n",
    "plt.xlabel('Command length', fontsize=12)\n",
    "plt.ylabel('Test accuracy on unseen commands (%)', fontsize=11)\n",
    "plt.xticks(ticks=cmd_lengths)\n",
    "plt.savefig('./paper/plots/experiment_2_commands.png')\n",
    "plt.show()\n",
    "plt.clf()"
   ]
  },
  {
   "cell_type": "code",
   "execution_count": 41,
   "metadata": {
    "ExecuteTime": {
     "end_time": "2019-12-11T10:14:01.747680Z",
     "start_time": "2019-12-11T10:14:01.591091Z"
    }
   },
   "outputs": [
    {
     "data": {
      "image/png": "[encoded data removed]",
      "text/plain": [
       "<Figure size 480x320 with 1 Axes>"
      ]
     },
     "metadata": {
      "needs_background": "light"
     },
     "output_type": "display_data"
    },
    {
     "data": {
      "text/plain": [
       "<Figure size 432x288 with 0 Axes>"
      ]
     },
     "metadata": {},
     "output_type": "display_data"
    }
   ],
   "source": [
    "act_lengths, act_accs = zip(*results_acts.items())\n",
    "plt.figure(figsize=(6,4), dpi=80)\n",
    "plt.bar(act_lengths, act_accs, width=0.9)\n",
    "plt.xlabel('Ground-truth action sequence length', fontsize=12)\n",
    "plt.ylabel('Test accuracy on unseen commands (%)', fontsize=11)\n",
    "plt.xticks(ticks=act_lengths)\n",
    "plt.savefig('./paper/plots/experiment_2_commands.png')\n",
    "plt.show()\n",
    "plt.clf()"
   ]
  }
 ],
 "metadata": {
  "hide_input": false,
  "kernelspec": {
   "display_name": "Python 3",
   "language": "python",
   "name": "python3"
  },
  "language_info": {
   "codemirror_mode": {
    "name": "ipython",
    "version": 3
   },
   "file_extension": ".py",
   "mimetype": "text/x-python",
   "name": "python",
   "nbconvert_exporter": "python",
   "pygments_lexer": "ipython3",
   "version": "3.7.4"
  },
  "latex_envs": {
   "LaTeX_envs_menu_present": true,
   "autoclose": false,
   "autocomplete": true,
   "bibliofile": "biblio.bib",
   "cite_by": "apalike",
   "current_citInitial": 1,
   "eqLabelWithNumbers": true,
   "eqNumInitial": 1,
   "hotkeys": {
    "equation": "Ctrl-E",
    "itemize": "Ctrl-I"
   },
   "labels_anchors": false,
   "latex_user_defs": false,
   "report_style_numbering": false,
   "user_envs_cfg": false
  },
  "toc": {
   "base_numbering": 1,
   "nav_menu": {},
   "number_sections": true,
   "sideBar": true,
   "skip_h1_title": false,
   "title_cell": "Table of Contents",
   "title_sidebar": "Contents",
   "toc_cell": false,
   "toc_position": {},
   "toc_section_display": true,
   "toc_window_display": false
  },
  "varInspector": {
   "cols": {
    "lenName": 16,
    "lenType": 16,
    "lenVar": 40
   },
   "kernels_config": {
    "python": {
     "delete_cmd_postfix": "",
     "delete_cmd_prefix": "del ",
     "library": "var_list.py",
     "varRefreshCmd": "print(var_dic_list())"
    },
    "r": {
     "delete_cmd_postfix": ") ",
     "delete_cmd_prefix": "rm(",
     "library": "var_list.r",
     "varRefreshCmd": "cat(var_dic_list()) "
    }
   },
   "types_to_exclude": [
    "module",
    "function",
    "builtin_function_or_method",
    "instance",
    "_Feature"
   ],
   "window_display": false
  }
 },
 "nbformat": 4,
 "nbformat_minor": 2
}
