{
 "cells": [
  {
   "cell_type": "code",
   "execution_count": 66,
   "metadata": {
    "ExecuteTime": {
     "end_time": "2019-11-20T12:12:13.091094Z",
     "start_time": "2019-11-20T12:12:13.087834Z"
    }
   },
   "outputs": [],
   "source": [
    "import numpy as np\n",
    "import os\n",
    "import re\n",
    "\n",
    "from collections import defaultdict"
   ]
  },
  {
   "cell_type": "code",
   "execution_count": 7,
   "metadata": {
    "ExecuteTime": {
     "end_time": "2019-11-20T11:37:56.186025Z",
     "start_time": "2019-11-20T11:37:56.182918Z"
    }
   },
   "outputs": [],
   "source": [
    "# set experiment\n",
    "exp='/exp_1a'"
   ]
  },
  {
   "cell_type": "code",
   "execution_count": 80,
   "metadata": {
    "ExecuteTime": {
     "end_time": "2019-11-20T13:18:22.507728Z",
     "start_time": "2019-11-20T13:18:22.502710Z"
    },
    "code_folding": [
     0
    ]
   },
   "outputs": [],
   "source": [
    "def s2i(sents:list, w2i:dict):\n",
    "    all_sents = []\n",
    "    for sent in sents:\n",
    "        indices = np.zeros(len(sent), dtype=int)\n",
    "        for i, w in enumerate(sent):\n",
    "            indices[i] += w2i[w]\n",
    "        all_sents.append(indices)\n",
    "    return np.array(all_sents)"
   ]
  },
  {
   "cell_type": "code",
   "execution_count": 81,
   "metadata": {
    "ExecuteTime": {
     "end_time": "2019-11-20T13:18:22.799467Z",
     "start_time": "2019-11-20T13:18:22.796962Z"
    }
   },
   "outputs": [],
   "source": [
    "def sort_dict(some_dict:dict): return dict(sorted(some_dict.items(), key=lambda kv:kv[1], reverse=True))"
   ]
  },
  {
   "cell_type": "code",
   "execution_count": 82,
   "metadata": {
    "ExecuteTime": {
     "end_time": "2019-11-20T13:18:23.068228Z",
     "start_time": "2019-11-20T13:18:23.064208Z"
    },
    "code_folding": [
     0
    ]
   },
   "outputs": [],
   "source": [
    "def w2i(vocab:dict):\n",
    "    w2i = {'<SOS>': 0, '<EOS>': 1, '<UNK>': 2}\n",
    "    n_special_toks = len(w2i)\n",
    "    for i, w in enumerate(vocab.keys()):\n",
    "        w2i[w] = i + n_special_toks\n",
    "    i2w = dict(enumerate(w2i.keys()))\n",
    "    return w2i, i2w"
   ]
  },
  {
   "cell_type": "code",
   "execution_count": 83,
   "metadata": {
    "ExecuteTime": {
     "end_time": "2019-11-20T13:18:23.339502Z",
     "start_time": "2019-11-20T13:18:23.332523Z"
    },
    "code_folding": [
     0
    ]
   },
   "outputs": [],
   "source": [
    "def load_dataset(exp:str, split:str, subdir:str='./data'):\n",
    "    \"\"\"\n",
    "    Args: \n",
    "        exp (str): experiment\n",
    "        split (str): train or test dataset\n",
    "    Returns:\n",
    "        cmd_vocab (dict): word2freq dictionary \n",
    "        \n",
    "    \"\"\"\n",
    "    file = subdir+exp+split+'/'+os.listdir(subdir+exp+split).pop()\n",
    "    cmd_start = 'IN:'\n",
    "    act_start = 'OUT:'\n",
    "    cmds, acts = [], []\n",
    "    cmd_vocab, act_vocab = defaultdict(int), defaultdict(int)\n",
    "    \n",
    "    with open(file, 'r', encoding='utf-8') as f:\n",
    "        for line in f:\n",
    "            cmd = line[line.index(cmd_start)+len(cmd_start):line.index(act_start)].strip().split()\n",
    "            act = line[line.index(act_start)+len(act_start):].strip().split()\n",
    "            for w in cmd: cmd_vocab[w] += 1\n",
    "            for w in act: act_vocab[w] += 1\n",
    "            cmds.append(cmd)\n",
    "            acts.append(act)\n",
    "\n",
    "    cmd_vocab = sort_dict(cmd_vocab)\n",
    "    act_vocab = sort_dict(act_vocab)\n",
    "    # create w2i and i2w mappings\n",
    "    w2i_cmds, i2w_cmds = w2i(cmd_vocab)\n",
    "    w2i_acts, i2w_acts = w2i(act_vocab)\n",
    "    return cmd_vocab, w2i_cmds, i2w_cmds, cmds, act_vocab, w2i_acts, i2w_acts, acts"
   ]
  },
  {
   "cell_type": "code",
   "execution_count": 84,
   "metadata": {
    "ExecuteTime": {
     "end_time": "2019-11-20T13:18:23.820311Z",
     "start_time": "2019-11-20T13:18:23.723457Z"
    }
   },
   "outputs": [],
   "source": [
    "cmd_vocab, w2i_cmds, i2w_cmds, cmds, act_vocab, w2i_acts, i2w_acts, acts = load_dataset(exp='/exp_1a', split='/train')"
   ]
  },
  {
   "cell_type": "code",
   "execution_count": 71,
   "metadata": {
    "ExecuteTime": {
     "end_time": "2019-11-20T12:12:39.771254Z",
     "start_time": "2019-11-20T12:12:39.580722Z"
    }
   },
   "outputs": [],
   "source": [
    "train_commands = s2i(cmds, w2i_cmds)\n",
    "train_actions = s2i(acts, w2i_acts)"
   ]
  },
  {
   "cell_type": "code",
   "execution_count": 72,
   "metadata": {
    "ExecuteTime": {
     "end_time": "2019-11-20T12:12:39.952727Z",
     "start_time": "2019-11-20T12:12:39.948739Z"
    }
   },
   "outputs": [
    {
     "data": {
      "text/plain": [
       "array([array([ 9,  5,  1,  3,  8, 13,  5,  1,  4]),\n",
       "       array([11,  5,  2,  7, 12,  1]), array([12,  7, 11,  6,  1,  3]),\n",
       "       ..., array([11,  1,  4,  8, 13,  6,  1,  3]),\n",
       "       array([11,  5,  1,  4,  8, 12,  3]),\n",
       "       array([10,  5,  1,  3,  7,  9,  6,  1,  3])], dtype=object)"
      ]
     },
     "execution_count": 72,
     "metadata": {},
     "output_type": "execute_result"
    }
   ],
   "source": [
    "train_commands"
   ]
  }
 ],
 "metadata": {
  "hide_input": false,
  "kernelspec": {
   "display_name": "Python 3",
   "language": "python",
   "name": "python3"
  },
  "language_info": {
   "codemirror_mode": {
    "name": "ipython",
    "version": 3
   },
   "file_extension": ".py",
   "mimetype": "text/x-python",
   "name": "python",
   "nbconvert_exporter": "python",
   "pygments_lexer": "ipython3",
   "version": "3.7.4"
  },
  "latex_envs": {
   "LaTeX_envs_menu_present": true,
   "autoclose": false,
   "autocomplete": true,
   "bibliofile": "biblio.bib",
   "cite_by": "apalike",
   "current_citInitial": 1,
   "eqLabelWithNumbers": true,
   "eqNumInitial": 1,
   "hotkeys": {
    "equation": "Ctrl-E",
    "itemize": "Ctrl-I"
   },
   "labels_anchors": false,
   "latex_user_defs": false,
   "report_style_numbering": false,
   "user_envs_cfg": false
  },
  "toc": {
   "base_numbering": 1,
   "nav_menu": {},
   "number_sections": true,
   "sideBar": true,
   "skip_h1_title": false,
   "title_cell": "Table of Contents",
   "title_sidebar": "Contents",
   "toc_cell": false,
   "toc_position": {},
   "toc_section_display": true,
   "toc_window_display": false
  },
  "varInspector": {
   "cols": {
    "lenName": 16,
    "lenType": 16,
    "lenVar": 40
   },
   "kernels_config": {
    "python": {
     "delete_cmd_postfix": "",
     "delete_cmd_prefix": "del ",
     "library": "var_list.py",
     "varRefreshCmd": "print(var_dic_list())"
    },
    "r": {
     "delete_cmd_postfix": ") ",
     "delete_cmd_prefix": "rm(",
     "library": "var_list.r",
     "varRefreshCmd": "cat(var_dic_list()) "
    }
   },
   "types_to_exclude": [
    "module",
    "function",
    "builtin_function_or_method",
    "instance",
    "_Feature"
   ],
   "window_display": false
  }
 },
 "nbformat": 4,
 "nbformat_minor": 2
}
