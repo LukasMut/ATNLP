{
 "cells": [
  {
   "cell_type": "code",
   "execution_count": 4,
   "metadata": {
    "ExecuteTime": {
     "end_time": "2020-01-14T14:09:06.881235Z",
     "start_time": "2020-01-14T14:09:04.253145Z"
    }
   },
   "outputs": [
    {
     "name": "stdout",
     "output_type": "stream",
     "text": [
      "GPU is available\n",
      "GPU is available\n"
     ]
    },
    {
     "name": "stderr",
     "output_type": "stream",
     "text": [
      "Using TensorFlow backend.\n"
     ]
    }
   ],
   "source": [
    "import matplotlib.pyplot as plt\n",
    "import matplotlib as mpl\n",
    "import numpy as np\n",
    "import pandas as pd\n",
    "import torch.nn as nn\n",
    "import json\n",
    "import os\n",
    "import random\n",
    "import torch\n",
    "\n",
    "from collections import Counter, defaultdict\n",
    "from itertools import islice\n",
    "from sklearn.utils import shuffle\n",
    "from tqdm import tqdm, trange\n",
    "from torch.optim import Adam\n",
    "from torch.utils.data import TensorDataset\n",
    "\n",
    "from models.Encoder import *\n",
    "from models.Decoder import *\n",
    "from models.utils import *\n",
    "from utils import *\n",
    "\n",
    "# set fixed random seeds to reproduce results\n",
    "np.random.seed(42)\n",
    "random.seed(42)\n",
    "torch.manual_seed(42)\n",
    "\n",
    "%matplotlib inline"
   ]
  },
  {
   "cell_type": "markdown",
   "metadata": {},
   "source": [
    "# Experiment 3"
   ]
  },
  {
   "cell_type": "code",
   "execution_count": 5,
   "metadata": {
    "ExecuteTime": {
     "end_time": "2020-01-14T14:09:06.943054Z",
     "start_time": "2020-01-14T14:09:06.939068Z"
    }
   },
   "outputs": [],
   "source": [
    "# define experiment\n",
    "exp='/exp_3'\n",
    "\n",
    "# define subexperiment (this time, there are two different datasets)\n",
    "subexp= '/turn_left' #'/jump'\n",
    "\n",
    "# define number of iterations\n",
    "n_iters = 20000\n",
    "\n",
    "# define batch size\n",
    "batch_size = 32"
   ]
  },
  {
   "cell_type": "code",
   "execution_count": 6,
   "metadata": {
    "ExecuteTime": {
     "end_time": "2020-01-14T14:09:07.720924Z",
     "start_time": "2020-01-14T14:09:07.716880Z"
    }
   },
   "outputs": [],
   "source": [
    "device = (\"cuda\" if torch.cuda.is_available() else \"cpu\")"
   ]
  },
  {
   "cell_type": "code",
   "execution_count": 7,
   "metadata": {
    "ExecuteTime": {
     "end_time": "2020-01-14T14:09:08.528096Z",
     "start_time": "2020-01-14T14:09:08.352250Z"
    }
   },
   "outputs": [],
   "source": [
    "# experiment 3 #\n",
    "\n",
    "# load dataset into memory, and get w2idx, idx2w, w2freq dictionaries and lists of input and output sentences\n",
    "cmd_vocab, w2i_cmds, i2w_cmds, cmds_train, act_vocab, w2i_acts, i2w_acts, acts_train = load_dataset(exp=exp, \n",
    "                                                                                                    split='/train', \n",
    "                                                                                                    subexp=subexp)\n",
    "_, _, _, cmds_test, _, _, _, acts_test = load_dataset(exp=exp, \n",
    "                                                      split='/test', \n",
    "                                                      subexp=subexp)"
   ]
  },
  {
   "cell_type": "code",
   "execution_count": 9,
   "metadata": {
    "ExecuteTime": {
     "end_time": "2020-01-14T14:09:16.540406Z",
     "start_time": "2020-01-14T14:09:16.530747Z"
    },
    "scrolled": true
   },
   "outputs": [
    {
     "name": "stdout",
     "output_type": "stream",
     "text": [
      "Number of train source-target pairs: 21890\n",
      "Number of test source-target pairs: 1208\n"
     ]
    }
   ],
   "source": [
    "## create input and output language pairs ##\n",
    "\n",
    "# training\n",
    "train_cmd_act_pairs = create_pairs(cmds_train, acts_train)\n",
    "print(\"Number of train source-target pairs: {}\".format(len(train_cmd_act_pairs)))\n",
    "\n",
    "# testing\n",
    "test_cmd_act_pairs = create_pairs(cmds_test, acts_test)\n",
    "print(\"Number of test source-target pairs: {}\".format(len(test_cmd_act_pairs)))"
   ]
  },
  {
   "cell_type": "code",
   "execution_count": 10,
   "metadata": {
    "ExecuteTime": {
     "end_time": "2020-01-14T14:09:17.992884Z",
     "start_time": "2020-01-14T14:09:17.985903Z"
    }
   },
   "outputs": [
    {
     "name": "stdout",
     "output_type": "stream",
     "text": [
      "Command: ['jump', 'twice', 'after', 'run', 'right', 'thrice']\n",
      "Action: ['I_TURN_RIGHT', 'I_RUN', 'I_TURN_RIGHT', 'I_RUN', 'I_TURN_RIGHT', 'I_RUN', 'I_JUMP', 'I_JUMP']\n"
     ]
    }
   ],
   "source": [
    "# show random train command-action pair\n",
    "random_pair = random.choice(train_cmd_act_pairs)\n",
    "print(\"Command: {}\".format(random_pair[0]))\n",
    "print(\"Action: {}\".format(random_pair[1]))"
   ]
  },
  {
   "cell_type": "code",
   "execution_count": 11,
   "metadata": {
    "ExecuteTime": {
     "end_time": "2020-01-14T14:09:19.322086Z",
     "start_time": "2020-01-14T14:09:19.316102Z"
    },
    "scrolled": false
   },
   "outputs": [
    {
     "name": "stdout",
     "output_type": "stream",
     "text": [
      "Command: ['look', 'around', 'left', 'and', 'turn', 'left', 'thrice']\n",
      "Action: ['I_TURN_LEFT', 'I_LOOK', 'I_TURN_LEFT', 'I_LOOK', 'I_TURN_LEFT', 'I_LOOK', 'I_TURN_LEFT', 'I_LOOK', 'I_TURN_LEFT', 'I_TURN_LEFT', 'I_TURN_LEFT']\n"
     ]
    }
   ],
   "source": [
    "# show random test command-action pair\n",
    "random_pair = random.choice(test_cmd_act_pairs)\n",
    "print(\"Command: {}\".format(random_pair[0]))\n",
    "print(\"Action: {}\".format(random_pair[1]))"
   ]
  },
  {
   "cell_type": "code",
   "execution_count": 12,
   "metadata": {
    "ExecuteTime": {
     "end_time": "2020-01-14T14:09:20.557780Z",
     "start_time": "2020-01-14T14:09:20.553792Z"
    }
   },
   "outputs": [],
   "source": [
    "# create command-action pairs for cosine sim computation\n",
    "rep_cmds_str = ['run', 'jump', 'run twice', 'jump twice']\n",
    "rep_cmds, rep_acts = [], []\n",
    "for cmd in rep_cmds_str:\n",
    "    cmd = cmd.split()\n",
    "    rep_cmds.append(cmd)\n",
    "    rep_acts.append(semantic_mapping(cmd))"
   ]
  },
  {
   "cell_type": "markdown",
   "metadata": {},
   "source": [
    "## Prepare data"
   ]
  },
  {
   "cell_type": "code",
   "execution_count": 13,
   "metadata": {
    "ExecuteTime": {
     "end_time": "2020-01-14T14:09:40.546402Z",
     "start_time": "2020-01-14T14:09:22.263878Z"
    }
   },
   "outputs": [],
   "source": [
    "cmds_train, acts_train, input_lengths_train, masks = pairs2idx(cmds_train, acts_train, w2i_cmds, w2i_acts, \n",
    "                                                               padding=True, training=True, reverse_source=False)\n",
    "\n",
    "cmds_test, acts_test, input_lengths_test = pairs2idx(cmds_test, acts_test, w2i_cmds, w2i_acts, \n",
    "                                                     padding=True, training=False, reverse_source=False)\n",
    "\n",
    "rep_cmds, rep_acts, input_lengths_rep = pairs2idx(rep_cmds, rep_acts, w2i_cmds, w2i_acts,\n",
    "                                                  padding=True, training=False, reverse_source=False)"
   ]
  },
  {
   "cell_type": "code",
   "execution_count": 14,
   "metadata": {
    "ExecuteTime": {
     "end_time": "2020-01-14T14:09:41.658781Z",
     "start_time": "2020-01-14T14:09:41.654429Z"
    }
   },
   "outputs": [],
   "source": [
    "# create train and test data loaders\n",
    "train_dl = create_batches(cmds_train, acts_train, input_lengths_train, batch_size=batch_size,\n",
    "                          masks=masks, split='train', num_samples=n_iters)\n",
    "\n",
    "test_dl = create_batches(cmds_test, acts_test, input_lengths_test, batch_size=batch_size, split='test')\n",
    "\n",
    "cosine_dl = create_batches(rep_cmds, rep_acts, input_lengths_rep, batch_size=len(rep_cmds_str), split='test')"
   ]
  },
  {
   "cell_type": "code",
   "execution_count": null,
   "metadata": {
    "ExecuteTime": {
     "end_time": "2019-12-11T14:52:14.557556Z",
     "start_time": "2019-12-11T14:52:14.552537Z"
    }
   },
   "outputs": [],
   "source": [
    "### Hyperparameters for training ###\n",
    "\n",
    "# source language (i.e., commands) vocabulary size |V_source|\n",
    "in_size = len(w2i_cmds)\n",
    "\n",
    "# target language (i.e., actions) vocabulary size |V_target|\n",
    "out_size = len(w2i_acts)\n",
    "\n",
    "# size of word embeddings\n",
    "emb_sizes = [10, 20]\n",
    "\n",
    "# size of hidden units\n",
    "hidden_sizes = [50, 100]\n",
    "\n",
    "# number of layers\n",
    "layer_sizes = [1, 2]\n",
    "\n",
    "# layer dropout rates\n",
    "dropout_rates = [0.25, 0.5]\n",
    "\n",
    "# learning rate\n",
    "lr = 1e-3\n",
    "\n",
    "# define whether encoder is uni- or bidirectional (decoder cannot be bidirectional)\n",
    "bidir = True\n",
    "\n",
    "# number of epochs\n",
    "n_epochs = 10 # 10-15 epochs (20.000 iterations each) seem to be sufficient to let models converge (find local minima)"
   ]
  },
  {
   "cell_type": "markdown",
   "metadata": {},
   "source": [
    "## Grid search over specified hyperparameter space"
   ]
  },
  {
   "cell_type": "code",
   "execution_count": null,
   "metadata": {
    "ExecuteTime": {
     "end_time": "2019-12-11T14:52:16.667911Z",
     "start_time": "2019-12-11T14:52:16.657905Z"
    },
    "code_folding": [
     0
    ]
   },
   "outputs": [],
   "source": [
    "def grid_search(in_size:int, out_size:int, embedding_sizes:list, hidden_sizes:list, layer_sizes:list, \n",
    "                dropout_rates:list, lr:float, n_epochs:int):\n",
    "    batch_size = 32\n",
    "    grid_results = defaultdict(dict)\n",
    "    for emb_size in embedding_sizes:\n",
    "        for hidden_size in hidden_sizes:\n",
    "            for layer_size in layer_sizes:\n",
    "                for dropout_rate in dropout_rates:\n",
    "                    # instantiate models\n",
    "                    encoder = EncoderGRU(in_size, emb_size, hidden_size, layer_size, dropout=dropout_rate, bidir=False)\n",
    "                    decoder = DecoderGRU(emb_size, hidden_size, out_size, layer_size, dropout=dropout_rate)\n",
    "                    # move models to GPU, if nvidia GPU is available (faster computation)\n",
    "                    encoder.cuda()\n",
    "                    decoder.cuda()\n",
    "                    # train\n",
    "                    train_losses, train_accs, encoder, decoder = train(train_dl, w2i_cmds, w2i_acts, i2w_cmds, i2w_acts,\n",
    "                                                                       encoder, decoder, epochs=n_epochs,\n",
    "                                                                       batch_size=batch_size, learning_rate=lr,\n",
    "                                                                       detailed_analysis=False)\n",
    "                    # test\n",
    "                    test_acc = test(test_dl, w2i_cmds, w2i_acts, i2w_cmds, i2w_acts, encoder, decoder,\n",
    "                                    batch_size=batch_size, detailed_analysis=True, detailed_results=False)\n",
    "                    # store results (convert keys to str to save results as .json file)\n",
    "                    grid_results[str((emb_size, hidden_size, layer_size, dropout_rate))]['train_accs'] = train_accs\n",
    "                    grid_results[str((emb_size, hidden_size, layer_size, dropout_rate))]['train_losses'] = train_losses\n",
    "                    grid_results[str((emb_size, hidden_size, layer_size, dropout_rate))]['test_acc'] = test_acc\n",
    "    return grid_results"
   ]
  },
  {
   "cell_type": "code",
   "execution_count": null,
   "metadata": {},
   "outputs": [],
   "source": [
    "grid_results = grid_search(in_size, out_size, embedding_sizes, hidden_sizes, layer_sizes, dropout_rates, lr, n_epochs)"
   ]
  },
  {
   "cell_type": "code",
   "execution_count": null,
   "metadata": {},
   "outputs": [],
   "source": [
    "# save results in .json file\n",
    "with open('./results/experiment_2_GRU_grid_search.json', 'w') as json_file:\n",
    "      json.dump(grid_results_copy, json_file)"
   ]
  },
  {
   "cell_type": "code",
   "execution_count": null,
   "metadata": {},
   "outputs": [],
   "source": [
    "test_accs = {hypers: results['test_acc'] for hypers, results in grid_results.items()}\n",
    "test_accs = dict(sorted(test_accs.items(), key=lambda kv:kv[1], reverse=False))"
   ]
  },
  {
   "cell_type": "markdown",
   "metadata": {},
   "source": [
    "## Debugging"
   ]
  },
  {
   "cell_type": "code",
   "execution_count": 15,
   "metadata": {
    "ExecuteTime": {
     "end_time": "2020-01-14T14:09:42.763526Z",
     "start_time": "2020-01-14T14:09:42.758541Z"
    }
   },
   "outputs": [],
   "source": [
    "## Hyperparameters for final model ##\n",
    "\n",
    "# source language (i.e., commands) vocabulary size |V_source|\n",
    "in_size = len(w2i_cmds)\n",
    "\n",
    "# target language (i.e., actions) vocabulary size |V_target|\n",
    "out_size = len(w2i_acts)\n",
    "\n",
    "# size of word embeddings\n",
    "emb_size = 10\n",
    "\n",
    "# size of hidden units\n",
    "hidden_size = 100\n",
    "\n",
    "# number of layers\n",
    "layer_size = 1\n",
    "\n",
    "# layer dropout rates\n",
    "dropout_rate = 0.5\n",
    "\n",
    "# learning rate\n",
    "lr = 1e-3\n",
    "\n",
    "# define whether encoder is uni- or bidirectional (decoder cannot be bidirectional)\n",
    "bidir = False\n",
    "\n",
    "# max source sequence length\n",
    "max_cmd_length = cmds_train.shape[1]\n",
    "\n",
    "# number of epochs\n",
    "n_epochs = 12 # 10-15"
   ]
  },
  {
   "cell_type": "code",
   "execution_count": 16,
   "metadata": {
    "ExecuteTime": {
     "end_time": "2020-01-14T14:09:43.821152Z",
     "start_time": "2020-01-14T14:09:43.815133Z"
    }
   },
   "outputs": [
    {
     "name": "stderr",
     "output_type": "stream",
     "text": [
      "C:\\Users\\lukas\\AppData\\Local\\Continuum\\anaconda3\\lib\\site-packages\\torch\\nn\\modules\\rnn.py:51: UserWarning: dropout option adds dropout after all but last recurrent layer, so non-zero dropout expects num_layers greater than 1, but got dropout=0.5 and num_layers=1\n",
      "  \"num_layers={}\".format(dropout, num_layers))\n"
     ]
    }
   ],
   "source": [
    "## Instantiate models ##\n",
    "\n",
    "encoder = EncoderGRU(in_size, emb_size, hidden_size, layer_size, dropout=dropout_rate, \n",
    "                     max_source_length=max_cmd_length, bidir=bidir)\n",
    "\n",
    "#decoder = DecoderGRU(emb_size, hidden_size, out_size, layer_size, dropout=dropout_rate)\n",
    "\n",
    "decoder = AttnDecoderGRU(emb_size, hidden_size, out_size, layer_size, dropout=dropout_rate, \n",
    "                         attention_version='multiplicative')"
   ]
  },
  {
   "cell_type": "code",
   "execution_count": 28,
   "metadata": {
    "ExecuteTime": {
     "end_time": "2020-01-14T10:46:56.246473Z",
     "start_time": "2020-01-14T10:46:56.243448Z"
    }
   },
   "outputs": [],
   "source": [
    "## move models to GPU, if GPU is available (for faster computation) ##"
   ]
  },
  {
   "cell_type": "code",
   "execution_count": 17,
   "metadata": {
    "ExecuteTime": {
     "end_time": "2020-01-14T14:09:46.626073Z",
     "start_time": "2020-01-14T14:09:44.864165Z"
    }
   },
   "outputs": [
    {
     "data": {
      "text/plain": [
       "EncoderGRU(\n",
       "  (embedding): Embedding(16, 10, padding_idx=0)\n",
       "  (gru): GRU(10, 100, batch_first=True, dropout=0.5)\n",
       ")"
      ]
     },
     "execution_count": 17,
     "metadata": {},
     "output_type": "execute_result"
    }
   ],
   "source": [
    "encoder.cuda()"
   ]
  },
  {
   "cell_type": "code",
   "execution_count": 18,
   "metadata": {
    "ExecuteTime": {
     "end_time": "2020-01-14T14:09:47.786150Z",
     "start_time": "2020-01-14T14:09:47.778172Z"
    },
    "scrolled": false
   },
   "outputs": [
    {
     "data": {
      "text/plain": [
       "AttnDecoderGRU(\n",
       "  (embedding): Embedding(9, 10, padding_idx=0)\n",
       "  (attention): MultiplicativeAttention(\n",
       "    (attn): Linear(in_features=100, out_features=100, bias=True)\n",
       "  )\n",
       "  (linear): Linear(in_features=200, out_features=9, bias=True)\n",
       "  (gru): GRU(10, 100, batch_first=True, dropout=0.5)\n",
       ")"
      ]
     },
     "execution_count": 18,
     "metadata": {},
     "output_type": "execute_result"
    }
   ],
   "source": [
    "decoder.cuda()"
   ]
  },
  {
   "cell_type": "markdown",
   "metadata": {},
   "source": [
    "### Training"
   ]
  },
  {
   "cell_type": "code",
   "execution_count": null,
   "metadata": {
    "ExecuteTime": {
     "start_time": "2020-01-14T14:09:32.418Z"
    }
   },
   "outputs": [
    {
     "name": "stderr",
     "output_type": "stream",
     "text": [
      "\r",
      "Epoch:   0%|                                                                                    | 0/12 [00:00<?, ?it/s]"
     ]
    },
    {
     "name": "stdout",
     "output_type": "stream",
     "text": [
      "Train loss: 0.8936410900474603\n",
      "Train acc: 0.00165\n",
      "Current teacher forcing ratio 0.95\n"
     ]
    },
    {
     "name": "stderr",
     "output_type": "stream",
     "text": [
      "\r",
      "Epoch:   8%|██████▎                                                                    | 1/12 [05:04<55:53, 304.88s/it]"
     ]
    }
   ],
   "source": [
    "train_losses, train_accs, command_hiddens, encoder, decoder = train(train_dl,\n",
    "                                                                   w2i_cmds, w2i_acts,\n",
    "                                                                   i2w_cmds, i2w_acts,\n",
    "                                                                   encoder, decoder,\n",
    "                                                                   epochs= n_epochs,\n",
    "                                                                   batch_size=batch_size,\n",
    "                                                                   learning_rate=lr,\n",
    "                                                                   detailed_analysis=False,\n",
    "                                                                   detailed_results=False,\n",
    "                                                                   similarity_computation=True)"
   ]
  },
  {
   "cell_type": "markdown",
   "metadata": {},
   "source": [
    "### Testing"
   ]
  },
  {
   "cell_type": "code",
   "execution_count": null,
   "metadata": {
    "ExecuteTime": {
     "start_time": "2020-01-14T14:09:36.295Z"
    }
   },
   "outputs": [],
   "source": [
    "# simple evaluation\n",
    "\n",
    "#test_acc = test(test_dl,\n",
    "#                w2i_cmds, w2i_acts, \n",
    "#                i2w_cmds, i2w_acts,\n",
    "#                encoder, decoder,\n",
    "#                batch_size=batch_size,\n",
    "#                detailed_analysis=False,\n",
    "#                detailed_results=False,\n",
    "#                components_accuracy=False)\n",
    "\n",
    "## more fine-grained analysis ##\n",
    "\n",
    "test_acc, acc_per_component, errors_per_component = test(test_dl,\n",
    "                                                        w2i_cmds, w2i_acts, \n",
    "                                                        i2w_cmds, i2w_acts,\n",
    "                                                        encoder, decoder,\n",
    "                                                        batch_size=batch_size,\n",
    "                                                        detailed_analysis=False,\n",
    "                                                        detailed_results=False,\n",
    "                                                        components_performance=True)"
   ]
  },
  {
   "cell_type": "markdown",
   "metadata": {},
   "source": [
    "## Deeper analyses of model behaviour"
   ]
  },
  {
   "cell_type": "markdown",
   "metadata": {},
   "source": [
    "### Jump (trained in isolation)"
   ]
  },
  {
   "cell_type": "markdown",
   "metadata": {},
   "source": [
    "#### Display per-component-accuracy"
   ]
  },
  {
   "cell_type": "code",
   "execution_count": null,
   "metadata": {
    "ExecuteTime": {
     "end_time": "2020-01-14T12:48:05.843275Z",
     "start_time": "2020-01-14T12:48:02.792Z"
    }
   },
   "outputs": [],
   "source": [
    "#print(acc_per_component)"
   ]
  },
  {
   "cell_type": "code",
   "execution_count": 33,
   "metadata": {
    "ExecuteTime": {
     "end_time": "2020-01-14T12:48:15.861950Z",
     "start_time": "2020-01-14T12:48:15.744233Z"
    }
   },
   "outputs": [
    {
     "data": {
      "image/png": "[encoded data removed]",
      "text/plain": [
       "<Figure size 432x288 with 1 Axes>"
      ]
     },
     "metadata": {
      "needs_background": "light"
     },
     "output_type": "display_data"
    }
   ],
   "source": [
    "n = 5\n",
    "top_and_bottom_n = dict(list(acc_per_component.items())[:n] + list(acc_per_component.items())[-n:])\n",
    "plt.bar(top_and_bottom_n.keys(), top_and_bottom_n.values(), alpha=0.5, edgecolor='black')\n",
    "plt.xlabel('Command components', fontsize=12)\n",
    "plt.ylabel('Test accuracy (%)', fontsize=12)\n",
    "plt.yticks(np.arange(0, 120, 20))\n",
    "plt.xticks(ticks=range(len(top_and_bottom_n)), labels=list(top_and_bottom_n.keys()), rotation=80)\n",
    "plt.show()"
   ]
  },
  {
   "cell_type": "markdown",
   "metadata": {},
   "source": [
    "#### Display per-component-errors"
   ]
  },
  {
   "cell_type": "code",
   "execution_count": null,
   "metadata": {
    "ExecuteTime": {
     "end_time": "2020-01-14T12:48:05.826321Z",
     "start_time": "2020-01-14T11:16:53.232Z"
    }
   },
   "outputs": [],
   "source": [
    "#print(errors_per_component)"
   ]
  },
  {
   "cell_type": "code",
   "execution_count": 34,
   "metadata": {
    "ExecuteTime": {
     "end_time": "2020-01-14T12:48:24.970450Z",
     "start_time": "2020-01-14T12:48:24.836834Z"
    },
    "scrolled": true
   },
   "outputs": [
    {
     "data": {
      "image/png": "[encoded data removed]",
      "text/plain": [
       "<Figure size 432x288 with 1 Axes>"
      ]
     },
     "metadata": {
      "needs_background": "light"
     },
     "output_type": "display_data"
    }
   ],
   "source": [
    "n = 5\n",
    "top_and_bottom_n = dict(list(errors_per_component.items())[:n] + list(errors_per_component.items())[-n:])\n",
    "plt.bar(top_and_bottom_n.keys(), top_and_bottom_n.values(), alpha=0.5, edgecolor='black')\n",
    "plt.xlabel('Command components', fontsize=12)\n",
    "plt.ylabel('Errors', fontsize=12)\n",
    "plt.xticks(ticks=range(len(top_and_bottom_n)), labels=list(top_and_bottom_n.keys()), rotation=80)\n",
    "plt.show()"
   ]
  },
  {
   "cell_type": "markdown",
   "metadata": {},
   "source": [
    "#### Show cosine similarities between hidden states of different training commands"
   ]
  },
  {
   "cell_type": "code",
   "execution_count": 42,
   "metadata": {
    "ExecuteTime": {
     "end_time": "2020-01-14T12:53:47.548236Z",
     "start_time": "2020-01-14T12:53:47.544283Z"
    }
   },
   "outputs": [],
   "source": [
    "train_dl = create_batches(cmds_train, acts_train, input_lengths_train, batch_size=batch_size, \n",
    "                          split='train', compute_cosines=True)"
   ]
  },
  {
   "cell_type": "code",
   "execution_count": 51,
   "metadata": {
    "ExecuteTime": {
     "end_time": "2020-01-14T12:56:58.855338Z",
     "start_time": "2020-01-14T12:56:56.710918Z"
    }
   },
   "outputs": [],
   "source": [
    "train_command_hiddens = get_encoder_hiddens(train_dl, encoder, i2w_cmds, batch_size = batch_size)\n",
    "rep_command_hiddens = get_encoder_hiddens(cosine_dl, encoder, i2w_cmds, batch_size = len(rep_cmds_str))"
   ]
  },
  {
   "cell_type": "code",
   "execution_count": 74,
   "metadata": {
    "ExecuteTime": {
     "end_time": "2020-01-14T13:54:10.899818Z",
     "start_time": "2020-01-14T13:54:02.373321Z"
    }
   },
   "outputs": [
    {
     "name": "stdout",
     "output_type": "stream",
     "text": [
      "                          run twice\n",
      "run thrice                 0.944205\n",
      "run and run twice          0.939585\n",
      "walk right and run twice   0.933791\n",
      "run left and run twice     0.933221\n",
      "walk left and run twice    0.931251\n",
      "\n",
      "                     jump twice\n",
      "jump                   0.850520\n",
      "turn right twice       0.763464\n",
      "turn opposite right    0.755152\n",
      "turn left twice        0.754299\n",
      "turn opposite left     0.753873\n",
      "\n",
      "                         run\n",
      "run and run         0.924196\n",
      "run after run       0.923371\n",
      "run right and run   0.910010\n",
      "run left and run    0.907019\n",
      "walk right and run  0.904306\n",
      "\n",
      "                                         jump\n",
      "turn right                           0.691315\n",
      "turn left                            0.650275\n",
      "run after turn right                 0.622777\n",
      "run after turn left                  0.622418\n",
      "turn opposite left after turn right  0.614905\n",
      "\n"
     ]
    }
   ],
   "source": [
    "nearest_neighbours_per_cmd = get_nearest_neighbours(train_command_hiddens, rep_command_hiddens)\n",
    "\n",
    "for df in nearest_neighbours_per_cmd:\n",
    "    print(df.head())\n",
    "    #print(df.to_latex())\n",
    "    print()"
   ]
  },
  {
   "cell_type": "code",
   "execution_count": null,
   "metadata": {},
   "outputs": [],
   "source": [
    "#command = 'run'\n",
    "#nearest_neighbours = compute_similarities(command_hiddens, command)\n",
    "#df = pd.DataFrame.from_dict(nearest_neighbours, orient='index', columns=[command])\n",
    "#df.head()"
   ]
  },
  {
   "cell_type": "code",
   "execution_count": null,
   "metadata": {},
   "outputs": [],
   "source": [
    "#command = 'jump'\n",
    "#nearest_neighbours = compute_similarities(command_hiddens, command)\n",
    "#df = pd.DataFrame.from_dict(nearest_neighbours, orient='index', columns=[command])\n",
    "#df.head()"
   ]
  },
  {
   "cell_type": "code",
   "execution_count": null,
   "metadata": {},
   "outputs": [],
   "source": [
    "#command = 'run twice'\n",
    "#nearest_neighbours = compute_similarities(command_hiddens, command)\n",
    "#df = pd.DataFrame.from_dict(nearest_neighbours, orient='index', columns=[command])\n",
    "#df.head()"
   ]
  },
  {
   "cell_type": "code",
   "execution_count": null,
   "metadata": {},
   "outputs": [],
   "source": [
    "#command = 'jump twice'\n",
    "#nearest_neighbours = compute_similarities(command_hiddens, command)\n",
    "#df = pd.DataFrame.from_dict(nearest_neighbours, orient='index', columns=[command])\n",
    "#df.head()"
   ]
  },
  {
   "cell_type": "markdown",
   "metadata": {},
   "source": [
    "### Turn left (trained compositionally)"
   ]
  },
  {
   "cell_type": "markdown",
   "metadata": {},
   "source": [
    "#### Display per-component-accuracy"
   ]
  },
  {
   "cell_type": "code",
   "execution_count": null,
   "metadata": {
    "ExecuteTime": {
     "start_time": "2020-01-14T14:11:07.522Z"
    }
   },
   "outputs": [],
   "source": [
    "n = 5\n",
    "top_and_bottom_n = dict(list(acc_per_component.items())[:n] + list(acc_per_component.items())[-n:])\n",
    "plt.bar(top_and_bottom_n.keys(), top_and_bottom_n.values(), alpha=0.5, edgecolor='black')\n",
    "plt.xlabel('Command components', fontsize=12)\n",
    "plt.ylabel('Test accuracy (%)', fontsize=12)\n",
    "plt.yticks(np.arange(0, 120, 20))\n",
    "plt.xticks(ticks=range(len(top_and_bottom_n)), labels=list(top_and_bottom_n.keys()), rotation=80)\n",
    "plt.show()"
   ]
  },
  {
   "cell_type": "markdown",
   "metadata": {},
   "source": [
    "#### Display per-component-errors"
   ]
  },
  {
   "cell_type": "code",
   "execution_count": null,
   "metadata": {
    "ExecuteTime": {
     "start_time": "2020-01-14T14:11:08.402Z"
    }
   },
   "outputs": [],
   "source": [
    "n = 5\n",
    "top_and_bottom_n = dict(list(errors_per_component.items())[:n] + list(errors_per_component.items())[-n:])\n",
    "plt.bar(top_and_bottom_n.keys(), top_and_bottom_n.values(), alpha=0.5, edgecolor='black')\n",
    "plt.xlabel('Command components', fontsize=12)\n",
    "plt.ylabel('Errors', fontsize=12)\n",
    "plt.xticks(ticks=range(len(top_and_bottom_n)), labels=list(top_and_bottom_n.keys()), rotation=80)\n",
    "plt.show()"
   ]
  },
  {
   "cell_type": "markdown",
   "metadata": {},
   "source": [
    "#### Show cosine similarities between hidden states of different training commands"
   ]
  },
  {
   "cell_type": "code",
   "execution_count": null,
   "metadata": {
    "ExecuteTime": {
     "start_time": "2020-01-14T14:11:14.574Z"
    }
   },
   "outputs": [],
   "source": [
    "train_dl = create_batches(cmds_train, acts_train, input_lengths_train, batch_size=batch_size, \n",
    "                          split='train', compute_cosines=True)"
   ]
  },
  {
   "cell_type": "code",
   "execution_count": null,
   "metadata": {
    "ExecuteTime": {
     "start_time": "2020-01-14T14:11:24.560Z"
    }
   },
   "outputs": [],
   "source": [
    "train_command_hiddens = get_encoder_hiddens(train_dl, encoder, i2w_cmds, batch_size = batch_size)\n",
    "rep_command_hiddens = get_encoder_hiddens(cosine_dl, encoder, i2w_cmds, batch_size = len(rep_cmds_str))"
   ]
  },
  {
   "cell_type": "code",
   "execution_count": null,
   "metadata": {
    "ExecuteTime": {
     "start_time": "2020-01-14T14:11:24.710Z"
    }
   },
   "outputs": [],
   "source": [
    "nearest_neighbours_per_cmd = get_nearest_neighbours(train_command_hiddens, rep_command_hiddens)\n",
    "\n",
    "for df in nearest_neighbours_per_cmd:\n",
    "    print(df.head())\n",
    "    #print(df.to_latex())\n",
    "    print()"
   ]
  }
 ],
 "metadata": {
  "hide_input": false,
  "kernelspec": {
   "display_name": "Python 3",
   "language": "python",
   "name": "python3"
  },
  "language_info": {
   "codemirror_mode": {
    "name": "ipython",
    "version": 3
   },
   "file_extension": ".py",
   "mimetype": "text/x-python",
   "name": "python",
   "nbconvert_exporter": "python",
   "pygments_lexer": "ipython3",
   "version": "3.7.4"
  },
  "latex_envs": {
   "LaTeX_envs_menu_present": true,
   "autoclose": false,
   "autocomplete": true,
   "bibliofile": "biblio.bib",
   "cite_by": "apalike",
   "current_citInitial": 1,
   "eqLabelWithNumbers": true,
   "eqNumInitial": 1,
   "hotkeys": {
    "equation": "Ctrl-E",
    "itemize": "Ctrl-I"
   },
   "labels_anchors": false,
   "latex_user_defs": false,
   "report_style_numbering": false,
   "user_envs_cfg": false
  },
  "toc": {
   "base_numbering": 1,
   "nav_menu": {},
   "number_sections": true,
   "sideBar": true,
   "skip_h1_title": false,
   "title_cell": "Table of Contents",
   "title_sidebar": "Contents",
   "toc_cell": false,
   "toc_position": {},
   "toc_section_display": true,
   "toc_window_display": false
  },
  "varInspector": {
   "cols": {
    "lenName": 16,
    "lenType": 16,
    "lenVar": 40
   },
   "kernels_config": {
    "python": {
     "delete_cmd_postfix": "",
     "delete_cmd_prefix": "del ",
     "library": "var_list.py",
     "varRefreshCmd": "print(var_dic_list())"
    },
    "r": {
     "delete_cmd_postfix": ") ",
     "delete_cmd_prefix": "rm(",
     "library": "var_list.r",
     "varRefreshCmd": "cat(var_dic_list()) "
    }
   },
   "types_to_exclude": [
    "module",
    "function",
    "builtin_function_or_method",
    "instance",
    "_Feature"
   ],
   "window_display": false
  }
 },
 "nbformat": 4,
 "nbformat_minor": 2
}
